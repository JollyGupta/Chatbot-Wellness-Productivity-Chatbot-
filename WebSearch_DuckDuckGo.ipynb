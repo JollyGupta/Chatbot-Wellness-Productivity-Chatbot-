{
  "cells": [
    {
      "cell_type": "code",
      "execution_count": null,
      "metadata": {
        "id": "iOwuS2ayDCQD"
      },
      "outputs": [],
      "source": [
        "# Step 1: Install/upgrade the package\n",
        "!pip install --upgrade langchain langchain_community"
      ]
    },
    {
      "cell_type": "code",
      "execution_count": null,
      "metadata": {
        "id": "RW1-TfnOXEiC"
      },
      "outputs": [],
      "source": [
        "!pip install --upgrade gradio"
      ]
    },
    {
      "cell_type": "code",
      "execution_count": null,
      "metadata": {
        "id": "MKXfXqIsDDVJ"
      },
      "outputs": [],
      "source": [
        "pip install -U ddgs"
      ]
    },
    {
      "cell_type": "code",
      "execution_count": null,
      "metadata": {
        "colab": {
          "base_uri": "https://localhost:8080/"
        },
        "id": "xh2ORvW8DDZD",
        "outputId": "966b5b63-f1dd-458b-a15a-b53b421be01c"
      },
      "outputs": [
        {
          "name": "stdout",
          "output_type": "stream",
          "text": [
            "There are many tools for generating talking head videos with AI . However, singing is a different domain from talking. Many tools produce good talking videos but bad singing videos. In this article we will specifically compare AI avatar tools on the quality of their singing videos. If you want to make an AI music video, this article is for you. Methods We compared 6 popular AI talking head ... An AI voice singing tool is software that uses artificial intelligence to generate human-like singing voices. These tools allow creators to input lyrics and melodies, then produce realistic vocal performances that can be customized for tone, style, and expression. AI is changing. the vocal production game faster than ever. Here's 6 AI vocal tools that'll take your tracks to new levels. Text-to-speech apps like Siri have been around for decades, but they were never able to hold a tune. Recent improvements to AI voice models and AI generated music have create fresh demand for AI singing voice generators. The market is responding with a wide range of different tools and solutions. AI web apps like Suno and Riffusion combine text-to-music with AI singing voices. Users describe ... Let's take a look at some of the most exciting AI tools for singers , especially in the areas of vocal cloning, auto-tuning, and beat making. If you're a young artist passionate about music and technology, this is your roadmap to the future. In 2025, being a great singer doesn't just mean having a powerful voice—it also means knowing how to use technology to your advantage. Artificial ...\n"
          ]
        }
      ],
      "source": [
        "# Import the tool\n",
        "from langchain_community.tools import DuckDuckGoSearchRun\n",
        "\n",
        "# Initialize the search tool\n",
        "search = DuckDuckGoSearchRun()\n",
        "\n",
        "# Perform a search\n",
        "query = \"Top 3 AI tools for Singer?\"\n",
        "result = search.run(query)   # use .run() instead of .invoke()\n",
        "\n",
        "# Print result\n",
        "print(result)\n"
      ]
    },
    {
      "cell_type": "code",
      "execution_count": null,
      "metadata": {
        "id": "iRs0RWwNDDek"
      },
      "outputs": [],
      "source": [
        "import gradio as gr"
      ]
    },
    {
      "cell_type": "code",
      "execution_count": null,
      "metadata": {
        "colab": {
          "base_uri": "https://localhost:8080/",
          "height": 611
        },
        "id": "ji4BDCE0DDhR",
        "outputId": "d9c9663b-ce65-4caa-96b4-45761af25701"
      },
      "outputs": [
        {
          "name": "stdout",
          "output_type": "stream",
          "text": [
            "Colab notebook detected. To show errors in colab notebook, set debug=True in launch()\n",
            "* Running on public URL: https://03678df793a24289cb.gradio.live\n",
            "\n",
            "This share link expires in 1 week. For free permanent hosting and GPU upgrades, run `gradio deploy` from the terminal in the working directory to deploy to Hugging Face Spaces (https://huggingface.co/spaces)\n"
          ]
        },
        {
          "data": {
            "text/html": [
              "<div><iframe src=\"https://03678df793a24289cb.gradio.live\" width=\"100%\" height=\"500\" allow=\"autoplay; camera; microphone; clipboard-read; clipboard-write;\" frameborder=\"0\" allowfullscreen></iframe></div>"
            ],
            "text/plain": [
              "<IPython.core.display.HTML object>"
            ]
          },
          "metadata": {},
          "output_type": "display_data"
        },
        {
          "data": {
            "text/plain": []
          },
          "execution_count": 11,
          "metadata": {},
          "output_type": "execute_result"
        }
      ],
      "source": [
        "# Define a simple function to use in Gradio\n",
        "def search_query(query):\n",
        "    return search.run(query)\n",
        "\n",
        "# Create Gradio interface\n",
        "iface = gr.Interface(\n",
        "    fn=search_query,\n",
        "    inputs=gr.Textbox(label=\"Enter your query\"),\n",
        "    outputs=gr.Textbox(label=\"Search Result\", lines=15)  # increase lines for bigger window\n",
        ")\n",
        "iface.launch(share=True)"
      ]
    },
    {
      "cell_type": "code",
      "execution_count": null,
      "metadata": {
        "id": "lFfthoSEDDj4"
      },
      "outputs": [],
      "source": [
        "# DUCKDUCK- paragraph\n",
        "# LLM - TOP 3 point to point"
      ]
    },
    {
      "cell_type": "code",
      "execution_count": null,
      "metadata": {
        "colab": {
          "base_uri": "https://localhost:8080/"
        },
        "id": "b5ZQcEfpcfec",
        "outputId": "521ff954-b6a9-428d-99ef-bf17711d0df6"
      },
      "outputs": [
        {
          "name": "stdout",
          "output_type": "stream",
          "text": [
            "['3 weeks ago - With famous artists increasingly ... vocal AI tools that are trained on their voices—the legal considerations around the topic are increasingly murky. There’s nothing illegal about using a vocal AI to re-create your favorite singer based on a vocal take in your DAW, but only if you do so privately or for your own ... 3 weeks ago - Text-to-speech apps like Siri have been around for decades, but they were never able to hold a tune. Recent improvements to AI voice models and AI generated music have create fresh demand for AI singing voice generators. The market is responding with a wide range of different tools and solutions. July 29, 2025 - Discover the best AI vocal tools of 2025 ( Synthesizer V , Vocaloid 6, Emvoice One, Voice-Swap, and SoundID VoiceAI ). Explore DAW plugins, synth-based vocalizers, and cloud platforms - a full comparison table included August 13, 2025 - Do you have any other tools to add to it? Do share in the comments section below. · Anyway, this is Kripesh taking your leave. I’ll be back with more interesting articles soon. Cheers, and keep learning. 🙂 · AI music is for anyone whose work revolves around music. This includes music composers, singers ... February 2, 2025 - Voicify . Voicify is a premium (paid) AI voice generation tool. It features a wide variety of famous artists, including Taylor Swift, Michael Jackson, Elvis, and more. In addition to singers, it also features speaking voices from famous actors, public figures, and fictional characters.']\n"
          ]
        }
      ],
      "source": [
        "result = search.run(\"Top AI tools for singers\")\n",
        "\n",
        "# Simple extraction: split by lines or numbers\n",
        "tools = [line for line in result.split(\"\\n\") if line.strip()][:3]\n",
        "print(tools)\n"
      ]
    },
    {
      "cell_type": "code",
      "execution_count": null,
      "metadata": {
        "id": "n54ST7QAdFnA"
      },
      "outputs": [],
      "source": [
        "! pip install langchain-groq\n"
      ]
    },
    {
      "cell_type": "code",
      "execution_count": null,
      "metadata": {
        "colab": {
          "background_save": true
        },
        "id": "HaHkQ7RxcfoR",
        "outputId": "923ecaa1-5bd0-43f8-9f8d-c4d24250769b"
      },
      "outputs": [
        {
          "ename": "ValueError",
          "evalue": "GROQ_API_KEY not found. Set it in .env",
          "output_type": "error",
          "traceback": [
            "\u001b[0;31m---------------------------------------------------------------------------\u001b[0m",
            "\u001b[0;31mValueError\u001b[0m                                Traceback (most recent call last)",
            "\u001b[0;32m/tmp/ipython-input-3994503488.py\u001b[0m in \u001b[0;36m<cell line: 0>\u001b[0;34m()\u001b[0m\n\u001b[1;32m     10\u001b[0m \u001b[0;34m\u001b[0m\u001b[0m\n\u001b[1;32m     11\u001b[0m \u001b[0;32mif\u001b[0m \u001b[0;32mnot\u001b[0m \u001b[0mGROQ_API_KEY\u001b[0m\u001b[0;34m:\u001b[0m\u001b[0;34m\u001b[0m\u001b[0;34m\u001b[0m\u001b[0m\n\u001b[0;32m---> 12\u001b[0;31m     \u001b[0;32mraise\u001b[0m \u001b[0mValueError\u001b[0m\u001b[0;34m(\u001b[0m\u001b[0;34m\"GROQ_API_KEY not found. Set it in .env\"\u001b[0m\u001b[0;34m)\u001b[0m\u001b[0;34m\u001b[0m\u001b[0;34m\u001b[0m\u001b[0m\n\u001b[0m\u001b[1;32m     13\u001b[0m \u001b[0;34m\u001b[0m\u001b[0m\n\u001b[1;32m     14\u001b[0m \u001b[0;34m\u001b[0m\u001b[0m\n",
            "\u001b[0;31mValueError\u001b[0m: GROQ_API_KEY not found. Set it in .env"
          ]
        }
      ],
      "source": [
        "import os\n",
        "from langchain_community.tools import DuckDuckGoSearchRun\n",
        "from langchain_groq import ChatGroq\n",
        "from langchain.schema import HumanMessage\n",
        "from dotenv import load_dotenv\n",
        "import os\n",
        "\n",
        "load_dotenv()  # loads variables from .env\n",
        "GROQ_API_KEY = os.getenv(\"GROQ_API_KEY\")\n",
        "\n",
        "if not GROQ_API_KEY:\n",
        "    raise ValueError(\"GROQ_API_KEY not found. Set it in .env\")\n",
        "\n",
        "\n",
        "# Initialize\n",
        "search = DuckDuckGoSearchRun()\n",
        "llm = ChatGroq(model=\"llama-3.1-8b-instant\", temperature=0.7, max_tokens=500)\n",
        "\n",
        "# Search query\n",
        "query = \"Top AI tools for singers\"\n",
        "raw_result = search.run(query)\n",
        "\n",
        "print(\"=== Raw Result ===\")\n",
        "print(raw_result[:500], \"...\")\n",
        "\n",
        "# Prompt\n",
        "prompt_text = f\"\"\"\n",
        "You are a helpful assistant.\n",
        "From the following text, extract the top 3 AI tools for singers in a simple numbered list:\n",
        "\n",
        "Text:\n",
        "{raw_result}\n",
        "\"\"\"\n",
        "\n",
        "# Use HumanMessage\n",
        "summary = llm.predict_messages([HumanMessage(content=prompt_text)])\n",
        "\n",
        "print(\"\\n=== Top 3 List ===\")\n",
        "print(summary.content)\n"
      ]
    },
    {
      "cell_type": "code",
      "execution_count": null,
      "metadata": {
        "id": "hAFlXLXaDDmv"
      },
      "outputs": [],
      "source": []
    },
    {
      "cell_type": "code",
      "execution_count": null,
      "metadata": {
        "id": "MBQfSRV7DDzh"
      },
      "outputs": [],
      "source": []
    },
    {
      "cell_type": "code",
      "execution_count": null,
      "metadata": {
        "id": "zHkuB_naDD3m"
      },
      "outputs": [],
      "source": []
    }
  ],
  "metadata": {
    "colab": {
      "provenance": []
    },
    "kernelspec": {
      "display_name": "Python 3",
      "name": "python3"
    },
    "language_info": {
      "name": "python"
    }
  },
  "nbformat": 4,
  "nbformat_minor": 0
}